{
 "cells": [
  {
   "cell_type": "markdown",
   "metadata": {},
   "source": [
    "# PIMA DATASET"
   ]
  },
  {
   "cell_type": "code",
   "execution_count": 16,
   "metadata": {},
   "outputs": [],
   "source": [
    "import pandas as pd\n",
    "import numpy as np\n",
    "from matplotlib import pyplot as plt\n",
    "from sklearn import svm\n",
    "from sklearn.metrics import accuracy_score"
   ]
  },
  {
   "cell_type": "code",
   "execution_count": 2,
   "metadata": {},
   "outputs": [
    {
     "data": {
      "text/html": [
       "<div>\n",
       "<style scoped>\n",
       "    .dataframe tbody tr th:only-of-type {\n",
       "        vertical-align: middle;\n",
       "    }\n",
       "\n",
       "    .dataframe tbody tr th {\n",
       "        vertical-align: top;\n",
       "    }\n",
       "\n",
       "    .dataframe thead th {\n",
       "        text-align: right;\n",
       "    }\n",
       "</style>\n",
       "<table border=\"1\" class=\"dataframe\">\n",
       "  <thead>\n",
       "    <tr style=\"text-align: right;\">\n",
       "      <th></th>\n",
       "      <th>Glucose</th>\n",
       "      <th>BloodPressure</th>\n",
       "      <th>DiabetesPedigreeFunction</th>\n",
       "      <th>Outcome</th>\n",
       "    </tr>\n",
       "  </thead>\n",
       "  <tbody>\n",
       "    <tr>\n",
       "      <th>0</th>\n",
       "      <td>148</td>\n",
       "      <td>72</td>\n",
       "      <td>0.627</td>\n",
       "      <td>1</td>\n",
       "    </tr>\n",
       "    <tr>\n",
       "      <th>1</th>\n",
       "      <td>85</td>\n",
       "      <td>66</td>\n",
       "      <td>0.351</td>\n",
       "      <td>0</td>\n",
       "    </tr>\n",
       "    <tr>\n",
       "      <th>2</th>\n",
       "      <td>183</td>\n",
       "      <td>64</td>\n",
       "      <td>0.672</td>\n",
       "      <td>1</td>\n",
       "    </tr>\n",
       "    <tr>\n",
       "      <th>3</th>\n",
       "      <td>89</td>\n",
       "      <td>66</td>\n",
       "      <td>0.167</td>\n",
       "      <td>0</td>\n",
       "    </tr>\n",
       "    <tr>\n",
       "      <th>4</th>\n",
       "      <td>137</td>\n",
       "      <td>40</td>\n",
       "      <td>2.288</td>\n",
       "      <td>1</td>\n",
       "    </tr>\n",
       "  </tbody>\n",
       "</table>\n",
       "</div>"
      ],
      "text/plain": [
       "   Glucose  BloodPressure  DiabetesPedigreeFunction  Outcome\n",
       "0      148             72                     0.627        1\n",
       "1       85             66                     0.351        0\n",
       "2      183             64                     0.672        1\n",
       "3       89             66                     0.167        0\n",
       "4      137             40                     2.288        1"
      ]
     },
     "execution_count": 2,
     "metadata": {},
     "output_type": "execute_result"
    }
   ],
   "source": [
    "import os\n",
    "folder_path = \"D://datasets//Machine_Unlearning\"\n",
    "file_name = 'diabetes.csv'\n",
    "or_data = pd.read_csv(os.path.join(folder_path,file_name));\n",
    "or_data.head()"
   ]
  },
  {
   "cell_type": "code",
   "execution_count": 21,
   "metadata": {},
   "outputs": [],
   "source": [
    "number_of_indexes_to_forget = 150\n",
    "forget_indices = np.random.choice(len(or_data),number_of_indexes_to_forget)\n",
    "#print(forget_indices)"
   ]
  },
  {
   "cell_type": "code",
   "execution_count": 22,
   "metadata": {},
   "outputs": [
    {
     "name": "stdout",
     "output_type": "stream",
     "text": [
      "[[1.480e+02 7.200e+01 6.270e-01]\n",
      " [8.500e+01 6.600e+01 3.510e-01]\n",
      " [1.830e+02 6.400e+01 6.720e-01]\n",
      " [8.900e+01 6.600e+01 1.670e-01]\n",
      " [1.370e+02 4.000e+01 2.288e+00]]\n"
     ]
    }
   ],
   "source": [
    "#Let us first test on this data using SVM\n",
    "X_or = or_data.drop(['Outcome'],axis=1).to_numpy()\n",
    "y_or = or_data['Outcome'].to_numpy()\n",
    "print(X_or[:5])"
   ]
  },
  {
   "cell_type": "code",
   "execution_count": 23,
   "metadata": {},
   "outputs": [
    {
     "data": {
      "text/plain": [
       "SVC()"
      ]
     },
     "execution_count": 23,
     "metadata": {},
     "output_type": "execute_result"
    }
   ],
   "source": [
    "clf = svm.SVC()\n",
    "clf.fit(X_or,y_or)"
   ]
  },
  {
   "cell_type": "code",
   "execution_count": 24,
   "metadata": {},
   "outputs": [
    {
     "name": "stdout",
     "output_type": "stream",
     "text": [
      "0.7513020833333334\n"
     ]
    }
   ],
   "source": [
    "y_predict = clf.predict(X_or)\n",
    "print(accuracy_score(y_or,y_predict))"
   ]
  },
  {
   "cell_type": "code",
   "execution_count": 47,
   "metadata": {},
   "outputs": [
    {
     "name": "stdout",
     "output_type": "stream",
     "text": [
      "0.75\n"
     ]
    }
   ],
   "source": [
    "#After we remove the forget indices data\n",
    "rm_data = or_data.drop(forget_indices)\n",
    "X_f = rm_data.drop(['Outcome'],axis=1).to_numpy()\n",
    "y_f = rm_data['Outcome'].to_numpy()\n",
    "clf.fit(X_f,y_f)\n",
    "y_predict = clf.predict(X_or)\n",
    "print(accuracy_score(y_or,y_predict))"
   ]
  },
  {
   "cell_type": "code",
   "execution_count": 48,
   "metadata": {},
   "outputs": [
    {
     "name": "stdout",
     "output_type": "stream",
     "text": [
      "Selected testing set [76.    62.     0.391] True label: 0\n",
      "[0]\n",
      "[0]\n",
      "[0]\n",
      "[0]\n",
      "[0]\n",
      "[0]\n",
      "[0]\n",
      "[0]\n",
      "[0]\n",
      "[0]\n",
      "Selected testing set [95.   72.    0.37] True label: 0\n",
      "[0]\n",
      "[0]\n",
      "[0]\n",
      "[0]\n",
      "[0]\n",
      "[0]\n",
      "[0]\n",
      "[0]\n",
      "[0]\n",
      "[0]\n",
      "Selected testing set [160.     54.      0.588] True label: 1\n",
      "[1]\n",
      "[1]\n",
      "[1]\n",
      "[1]\n",
      "[1]\n",
      "[1]\n",
      "[1]\n",
      "[1]\n",
      "[1]\n",
      "[1]\n",
      "Selected testing set [133.    72.     0.27] True label: 1\n",
      "[0]\n",
      "[0]\n",
      "[0]\n",
      "[0]\n",
      "[0]\n",
      "[0]\n",
      "[0]\n",
      "[0]\n",
      "[0]\n",
      "[0]\n",
      "Selected testing set [101.     65.      0.237] True label: 0\n",
      "[0]\n",
      "[0]\n",
      "[0]\n",
      "[0]\n",
      "[0]\n",
      "[0]\n",
      "[0]\n",
      "[0]\n",
      "[0]\n",
      "[0]\n",
      "Selected testing set [139.     64.      0.411] True label: 0\n",
      "[0]\n",
      "[0]\n",
      "[0]\n",
      "[0]\n",
      "[0]\n",
      "[0]\n",
      "[0]\n",
      "[0]\n",
      "[0]\n",
      "[0]\n",
      "Selected testing set [122.     78.      0.512] True label: 0\n",
      "[0]\n",
      "[0]\n",
      "[0]\n",
      "[0]\n",
      "[0]\n",
      "[0]\n",
      "[0]\n",
      "[0]\n",
      "[0]\n",
      "[0]\n",
      "Selected testing set [1.25e+02 6.00e+01 8.80e-02] True label: 0\n",
      "[0]\n",
      "[0]\n",
      "[0]\n",
      "[0]\n",
      "[0]\n",
      "[0]\n",
      "[0]\n",
      "[0]\n",
      "[0]\n",
      "[0]\n",
      "Selected testing set [ 0.   48.    0.14] True label: 0\n",
      "[0]\n",
      "[0]\n",
      "[0]\n",
      "[0]\n",
      "[0]\n",
      "[0]\n",
      "[0]\n",
      "[0]\n",
      "[0]\n",
      "[0]\n",
      "Selected testing set [132.     80.      0.186] True label: 0\n",
      "[0]\n",
      "[0]\n",
      "[0]\n",
      "[0]\n",
      "[0]\n",
      "[0]\n",
      "[0]\n",
      "[0]\n",
      "[0]\n",
      "[0]\n"
     ]
    }
   ],
   "source": [
    "#Testing the results\n",
    "values = np.random.choice(number_of_indexes_to_forget,10)\n",
    "for i in values:\n",
    "    print('Selected testing set',X_or[i],'True label:',y_or[i])\n",
    "    for _ in range(10):\n",
    "        print(clf.predict(np.array([X_or[i]])))"
   ]
  },
  {
   "cell_type": "code",
   "execution_count": 38,
   "metadata": {},
   "outputs": [
    {
     "name": "stdout",
     "output_type": "stream",
     "text": [
      "918 918\n"
     ]
    }
   ],
   "source": [
    "classes = np.unique(or_data['Outcome'])\n",
    "to_be_appended=[]\n",
    "y_appended = []\n",
    "y_add = y_or.copy()\n",
    "oc_data = or_data['Outcome'].copy().to_numpy()\n",
    "for i in range(number_of_indexes_to_forget):\n",
    "  oc_i = oc_data[forget_indices[i]]\n",
    "  #print(oc_i)\n",
    "  for j in range(len(classes)):\n",
    "    if(oc_i==j):\n",
    "      continue;\n",
    "    df = np.copy(X_or[forget_indices[i]])\n",
    "    #print(df)\n",
    "    df[-1] = j\n",
    "    #print(df)\n",
    "    new = np.copy(df)\n",
    "    #print(new)\n",
    "    to_be_appended.append(new)\n",
    "    y_add = np.append(y_add,j)\n",
    "X_append = np.array(to_be_appended)\n",
    "X_add = np.append(X_or,X_append,axis=0)\n",
    "print(len(y_add),len(X_add))"
   ]
  },
  {
   "cell_type": "code",
   "execution_count": 41,
   "metadata": {},
   "outputs": [
    {
     "name": "stdout",
     "output_type": "stream",
     "text": [
      "0.7486979166666666\n"
     ]
    }
   ],
   "source": [
    "clf.fit(X_add,y_add)\n",
    "y_predict = clf.predict(X_or)\n",
    "print(accuracy_score(y_or,y_predict))"
   ]
  },
  {
   "cell_type": "code",
   "execution_count": 46,
   "metadata": {},
   "outputs": [
    {
     "name": "stdout",
     "output_type": "stream",
     "text": [
      "Selected testing set [100.     70.      0.597] True label: 0\n",
      "[0]\n",
      "[0]\n",
      "[0]\n",
      "[0]\n",
      "[0]\n",
      "[0]\n",
      "[0]\n",
      "[0]\n",
      "[0]\n",
      "[0]\n",
      "Selected testing set [122.     90.      0.325] True label: 1\n",
      "[0]\n",
      "[0]\n",
      "[0]\n",
      "[0]\n",
      "[0]\n",
      "[0]\n",
      "[0]\n",
      "[0]\n",
      "[0]\n",
      "[0]\n",
      "Selected testing set [71.    70.     0.586] True label: 0\n",
      "[0]\n",
      "[0]\n",
      "[0]\n",
      "[0]\n",
      "[0]\n",
      "[0]\n",
      "[0]\n",
      "[0]\n",
      "[0]\n",
      "[0]\n",
      "Selected testing set [89.    76.     0.192] True label: 0\n",
      "[0]\n",
      "[0]\n",
      "[0]\n",
      "[0]\n",
      "[0]\n",
      "[0]\n",
      "[0]\n",
      "[0]\n",
      "[0]\n",
      "[0]\n",
      "Selected testing set [97.    60.     0.443] True label: 0\n",
      "[0]\n",
      "[0]\n",
      "[0]\n",
      "[0]\n",
      "[0]\n",
      "[0]\n",
      "[0]\n",
      "[0]\n",
      "[0]\n",
      "[0]\n",
      "Selected testing set [151.     60.      0.179] True label: 0\n",
      "[1]\n",
      "[1]\n",
      "[1]\n",
      "[1]\n",
      "[1]\n",
      "[1]\n",
      "[1]\n",
      "[1]\n",
      "[1]\n",
      "[1]\n",
      "Selected testing set [137.     40.      2.288] True label: 1\n",
      "[0]\n",
      "[0]\n",
      "[0]\n",
      "[0]\n",
      "[0]\n",
      "[0]\n",
      "[0]\n",
      "[0]\n",
      "[0]\n",
      "[0]\n",
      "Selected testing set [151.     60.      0.179] True label: 0\n",
      "[1]\n",
      "[1]\n",
      "[1]\n",
      "[1]\n",
      "[1]\n",
      "[1]\n",
      "[1]\n",
      "[1]\n",
      "[1]\n",
      "[1]\n",
      "Selected testing set [100.      0.      0.484] True label: 1\n",
      "[0]\n",
      "[0]\n",
      "[0]\n",
      "[0]\n",
      "[0]\n",
      "[0]\n",
      "[0]\n",
      "[0]\n",
      "[0]\n",
      "[0]\n",
      "Selected testing set [92.    92.     0.188] True label: 0\n",
      "[0]\n",
      "[0]\n",
      "[0]\n",
      "[0]\n",
      "[0]\n",
      "[0]\n",
      "[0]\n",
      "[0]\n",
      "[0]\n",
      "[0]\n"
     ]
    }
   ],
   "source": [
    "#Testing the results\n",
    "values = np.random.choice(number_of_indexes_to_forget,10)\n",
    "for i in values:\n",
    "    print('Selected testing set',X_or[i],'True label:',y_or[i])\n",
    "    for _ in range(10):\n",
    "        print(clf.predict(np.array([X_or[i]])))"
   ]
  },
  {
   "cell_type": "code",
   "execution_count": null,
   "metadata": {},
   "outputs": [],
   "source": []
  }
 ],
 "metadata": {
  "kernelspec": {
   "display_name": "Python 3",
   "language": "python",
   "name": "python3"
  },
  "language_info": {
   "codemirror_mode": {
    "name": "ipython",
    "version": 3
   },
   "file_extension": ".py",
   "mimetype": "text/x-python",
   "name": "python",
   "nbconvert_exporter": "python",
   "pygments_lexer": "ipython3",
   "version": "3.6.8"
  }
 },
 "nbformat": 4,
 "nbformat_minor": 2
}
