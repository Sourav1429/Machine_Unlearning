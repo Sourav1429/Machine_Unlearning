{
 "cells": [
  {
   "cell_type": "code",
   "execution_count": 75,
   "metadata": {},
   "outputs": [],
   "source": [
    "import cv2\n",
    "import os\n",
    "import numpy as np\n",
    "from tqdm import tqdm\n",
    "from matplotlib import pyplot as plt"
   ]
  },
  {
   "cell_type": "code",
   "execution_count": null,
   "metadata": {},
   "outputs": [
    {
     "name": "stderr",
     "output_type": "stream",
     "text": [
      "25000it [21:22, 19.49it/s]\n"
     ]
    }
   ],
   "source": [
    "folder_name = \"D://datasets//train\"\n",
    "files = os.listdir(folder_name)\n",
    "l = len(files)\n",
    "proportion_corrupted = 0.2\n",
    "IMG_SZ = 64\n",
    "X_train = np.empty((IMG_SZ,IMG_SZ,l))\n",
    "y_train = np.zeros((l,))\n",
    "#i=1;\n",
    "for i,file in tqdm(enumerate(files)):\n",
    "    img = cv2.imread(os.path.join(folder_name,file),cv2.IMREAD_GRAYSCALE)\n",
    "    #print(img.shape)\n",
    "    img = cv2.resize(img,(IMG_SZ,IMG_SZ))\n",
    "    plt.figure()\n",
    "    plt.imshow(img)\n",
    "    #print(img.shape)\n",
    "    if(i==0):\n",
    "        X_train = np.reshape(img.copy(),(1,IMG_SZ,IMG_SZ))\n",
    "    else:\n",
    "        X_train = np.append(X_train,np.reshape(img,(1,IMG_SZ,IMG_SZ)),axis=0)\n",
    "    if(file.split()[0]=='dog'):\n",
    "        y_train[i] = 1"
   ]
  },
  {
   "cell_type": "code",
   "execution_count": 73,
   "metadata": {},
   "outputs": [
    {
     "data": {
      "text/plain": [
       "<matplotlib.image.AxesImage at 0x1d3512da438>"
      ]
     },
     "execution_count": 73,
     "metadata": {},
     "output_type": "execute_result"
    },
    {
     "data": {
      "image/png": "[encoded data removed]",
      "text/plain": [
       "<Figure size 432x288 with 1 Axes>"
      ]
     },
     "metadata": {
      "needs_background": "light"
     },
     "output_type": "display_data"
    }
   ],
   "source": [
    "plt.imshow(X_train[2])"
   ]
  },
  {
   "cell_type": "code",
   "execution_count": 53,
   "metadata": {},
   "outputs": [
    {
     "data": {
      "text/plain": [
       "array([[220, 222, 231, ..., 250, 239, 239],\n",
       "       [222, 218, 231, ..., 244, 251, 244],\n",
       "       [224, 226, 226, ..., 250, 248, 243],\n",
       "       ...,\n",
       "       [205, 197, 167, ..., 222, 212, 213],\n",
       "       [198, 197, 202, ..., 222, 213, 214],\n",
       "       [212, 204, 172, ..., 220, 214, 213]], dtype=uint8)"
      ]
     },
     "execution_count": 53,
     "metadata": {},
     "output_type": "execute_result"
    }
   ],
   "source": [
    "img"
   ]
  },
  {
   "cell_type": "code",
   "execution_count": 59,
   "metadata": {},
   "outputs": [
    {
     "name": "stdout",
     "output_type": "stream",
     "text": [
      "[[[9.91631993e-312 9.91577101e-312 2.12199579e-314 ... 0.00000000e+000\n",
      "   0.00000000e+000 0.00000000e+000]\n",
      "  [0.00000000e+000 0.00000000e+000 0.00000000e+000 ... 0.00000000e+000\n",
      "   0.00000000e+000 0.00000000e+000]\n",
      "  [0.00000000e+000 0.00000000e+000 0.00000000e+000 ... 0.00000000e+000\n",
      "   0.00000000e+000 0.00000000e+000]\n",
      "  ...\n",
      "  [0.00000000e+000 0.00000000e+000 0.00000000e+000 ... 0.00000000e+000\n",
      "   0.00000000e+000 0.00000000e+000]\n",
      "  [0.00000000e+000 0.00000000e+000 0.00000000e+000 ... 0.00000000e+000\n",
      "   0.00000000e+000 0.00000000e+000]\n",
      "  [0.00000000e+000 0.00000000e+000 0.00000000e+000 ... 0.00000000e+000\n",
      "   0.00000000e+000 0.00000000e+000]]]\n"
     ]
    }
   ],
   "source": [
    "img = np.reshape(img,(1,64,64))\n",
    "temporary = np.empty((1,64,64))\n",
    "#np.append(temporary,img,axis=1)\n",
    "print(temporary)"
   ]
  },
  {
   "cell_type": "code",
   "execution_count": 61,
   "metadata": {},
   "outputs": [
    {
     "name": "stdout",
     "output_type": "stream",
     "text": [
      "[[[9.91631993e-312 9.91577101e-312 2.12199579e-314 ... 0.00000000e+000\n",
      "   0.00000000e+000 0.00000000e+000]\n",
      "  [0.00000000e+000 0.00000000e+000 0.00000000e+000 ... 0.00000000e+000\n",
      "   0.00000000e+000 0.00000000e+000]\n",
      "  [0.00000000e+000 0.00000000e+000 0.00000000e+000 ... 0.00000000e+000\n",
      "   0.00000000e+000 0.00000000e+000]\n",
      "  ...\n",
      "  [2.05000000e+002 1.97000000e+002 1.67000000e+002 ... 2.22000000e+002\n",
      "   2.12000000e+002 2.13000000e+002]\n",
      "  [1.98000000e+002 1.97000000e+002 2.02000000e+002 ... 2.22000000e+002\n",
      "   2.13000000e+002 2.14000000e+002]\n",
      "  [2.12000000e+002 2.04000000e+002 1.72000000e+002 ... 2.20000000e+002\n",
      "   2.14000000e+002 2.13000000e+002]]]\n"
     ]
    }
   ],
   "source": [
    "print(np.append(temporary,img,axis=1))"
   ]
  },
  {
   "cell_type": "code",
   "execution_count": 64,
   "metadata": {},
   "outputs": [
    {
     "name": "stdout",
     "output_type": "stream",
     "text": [
      "[[[220 222 231 ... 250 239 239]\n",
      "  [222 218 231 ... 244 251 244]\n",
      "  [224 226 226 ... 250 248 243]\n",
      "  ...\n",
      "  [205 197 167 ... 222 212 213]\n",
      "  [198 197 202 ... 222 213 214]\n",
      "  [212 204 172 ... 220 214 213]]]\n"
     ]
    }
   ],
   "source": [
    "temporary = img.copy()\n",
    "print(temporary)"
   ]
  },
  {
   "cell_type": "code",
   "execution_count": 66,
   "metadata": {},
   "outputs": [
    {
     "name": "stdout",
     "output_type": "stream",
     "text": [
      "[[[220 222 231 ... 250 239 239]\n",
      "  [222 218 231 ... 244 251 244]\n",
      "  [224 226 226 ... 250 248 243]\n",
      "  ...\n",
      "  [205 197 167 ... 222 212 213]\n",
      "  [198 197 202 ... 222 213 214]\n",
      "  [212 204 172 ... 220 214 213]]\n",
      "\n",
      " [[220 222 231 ... 250 239 239]\n",
      "  [222 218 231 ... 244 251 244]\n",
      "  [224 226 226 ... 250 248 243]\n",
      "  ...\n",
      "  [205 197 167 ... 222 212 213]\n",
      "  [198 197 202 ... 222 213 214]\n",
      "  [212 204 172 ... 220 214 213]]]\n"
     ]
    }
   ],
   "source": [
    "print(np.append(temporary,img,axis=0))"
   ]
  },
  {
   "cell_type": "code",
   "execution_count": null,
   "metadata": {},
   "outputs": [],
   "source": []
  }
 ],
 "metadata": {
  "kernelspec": {
   "display_name": "Python 3",
   "language": "python",
   "name": "python3"
  },
  "language_info": {
   "codemirror_mode": {
    "name": "ipython",
    "version": 3
   },
   "file_extension": ".py",
   "mimetype": "text/x-python",
   "name": "python",
   "nbconvert_exporter": "python",
   "pygments_lexer": "ipython3",
   "version": "3.6.8"
  }
 },
 "nbformat": 4,
 "nbformat_minor": 2
}
