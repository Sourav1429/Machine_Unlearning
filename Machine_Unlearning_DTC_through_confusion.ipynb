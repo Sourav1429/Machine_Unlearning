{
 "cells": [
  {
   "cell_type": "markdown",
   "metadata": {},
   "source": [
    "# 1) Unlearning few random samples directly"
   ]
  },
  {
   "cell_type": "markdown",
   "metadata": {},
   "source": [
    "# PIMA"
   ]
  },
  {
   "cell_type": "code",
   "execution_count": 3,
   "metadata": {},
   "outputs": [],
   "source": [
    "import pandas as pd\n",
    "import numpy as np\n",
    "from matplotlib import pyplot as plt\n",
    "from sklearn.tree import DecisionTreeClassifier\n",
    "from sklearn.metrics import accuracy_score"
   ]
  },
  {
   "cell_type": "code",
   "execution_count": 2,
   "metadata": {},
   "outputs": [
    {
     "data": {
      "text/html": [
       "<div>\n",
       "<style scoped>\n",
       "    .dataframe tbody tr th:only-of-type {\n",
       "        vertical-align: middle;\n",
       "    }\n",
       "\n",
       "    .dataframe tbody tr th {\n",
       "        vertical-align: top;\n",
       "    }\n",
       "\n",
       "    .dataframe thead th {\n",
       "        text-align: right;\n",
       "    }\n",
       "</style>\n",
       "<table border=\"1\" class=\"dataframe\">\n",
       "  <thead>\n",
       "    <tr style=\"text-align: right;\">\n",
       "      <th></th>\n",
       "      <th>Glucose</th>\n",
       "      <th>BloodPressure</th>\n",
       "      <th>DiabetesPedigreeFunction</th>\n",
       "      <th>Outcome</th>\n",
       "    </tr>\n",
       "  </thead>\n",
       "  <tbody>\n",
       "    <tr>\n",
       "      <th>0</th>\n",
       "      <td>148</td>\n",
       "      <td>72</td>\n",
       "      <td>0.627</td>\n",
       "      <td>1</td>\n",
       "    </tr>\n",
       "    <tr>\n",
       "      <th>1</th>\n",
       "      <td>85</td>\n",
       "      <td>66</td>\n",
       "      <td>0.351</td>\n",
       "      <td>0</td>\n",
       "    </tr>\n",
       "    <tr>\n",
       "      <th>2</th>\n",
       "      <td>183</td>\n",
       "      <td>64</td>\n",
       "      <td>0.672</td>\n",
       "      <td>1</td>\n",
       "    </tr>\n",
       "    <tr>\n",
       "      <th>3</th>\n",
       "      <td>89</td>\n",
       "      <td>66</td>\n",
       "      <td>0.167</td>\n",
       "      <td>0</td>\n",
       "    </tr>\n",
       "    <tr>\n",
       "      <th>4</th>\n",
       "      <td>137</td>\n",
       "      <td>40</td>\n",
       "      <td>2.288</td>\n",
       "      <td>1</td>\n",
       "    </tr>\n",
       "  </tbody>\n",
       "</table>\n",
       "</div>"
      ],
      "text/plain": [
       "   Glucose  BloodPressure  DiabetesPedigreeFunction  Outcome\n",
       "0      148             72                     0.627        1\n",
       "1       85             66                     0.351        0\n",
       "2      183             64                     0.672        1\n",
       "3       89             66                     0.167        0\n",
       "4      137             40                     2.288        1"
      ]
     },
     "execution_count": 2,
     "metadata": {},
     "output_type": "execute_result"
    }
   ],
   "source": [
    "import os\n",
    "folder_path = \"D://datasets//Machine_Unlearning\"\n",
    "file_name = 'diabetes.csv'\n",
    "or_data = pd.read_csv(os.path.join(folder_path,file_name));\n",
    "or_data.head()"
   ]
  },
  {
   "cell_type": "code",
   "execution_count": 6,
   "metadata": {},
   "outputs": [
    {
     "name": "stdout",
     "output_type": "stream",
     "text": [
      "[[1.480e+02 7.200e+01 6.270e-01]\n",
      " [8.500e+01 6.600e+01 3.510e-01]\n",
      " [1.830e+02 6.400e+01 6.720e-01]\n",
      " [8.900e+01 6.600e+01 1.670e-01]\n",
      " [1.370e+02 4.000e+01 2.288e+00]]\n"
     ]
    }
   ],
   "source": [
    "clf = DecisionTreeClassifier(random_state=1)\n",
    "number_of_indexes_to_forget = 150\n",
    "forget_indices = np.random.choice(len(or_data),number_of_indexes_to_forget)\n",
    "#print(forget_indices)\n",
    "X_or = or_data.drop(['Outcome'],axis=1).to_numpy()\n",
    "y_or = or_data['Outcome'].to_numpy()\n",
    "print(X_or[:5])"
   ]
  },
  {
   "cell_type": "code",
   "execution_count": 7,
   "metadata": {},
   "outputs": [
    {
     "name": "stdout",
     "output_type": "stream",
     "text": [
      "1.0\n"
     ]
    }
   ],
   "source": [
    "clf.fit(X_or,y_or)\n",
    "y_predict = clf.predict(X_or)\n",
    "print(accuracy_score(y_or,y_predict))"
   ]
  },
  {
   "cell_type": "code",
   "execution_count": 8,
   "metadata": {},
   "outputs": [
    {
     "name": "stdout",
     "output_type": "stream",
     "text": [
      "0.9479166666666666\n"
     ]
    }
   ],
   "source": [
    "#After we remove the forget indices data\n",
    "rm_data = or_data.drop(forget_indices)\n",
    "X_f = rm_data.drop(['Outcome'],axis=1).to_numpy()\n",
    "y_f = rm_data['Outcome'].to_numpy()\n",
    "clf.fit(X_f,y_f)\n",
    "y_predict = clf.predict(X_or)\n",
    "print(accuracy_score(y_or,y_predict))"
   ]
  },
  {
   "cell_type": "code",
   "execution_count": 9,
   "metadata": {},
   "outputs": [
    {
     "name": "stdout",
     "output_type": "stream",
     "text": [
      "Selected testing set [132.     80.      0.186] True label: 0\n",
      "Predicted label: [0]\n",
      "Selected testing set [142.     82.      0.761] True label: 0\n",
      "Predicted label: [0]\n",
      "Selected testing set [81.    72.     0.283] True label: 0\n",
      "Predicted label: [0]\n",
      "Selected testing set [147.     76.      0.257] True label: 1\n",
      "Predicted label: [1]\n",
      "Selected testing set [171.    110.      0.721] True label: 1\n",
      "Predicted label: [1]\n",
      "Selected testing set [95.    85.     0.247] True label: 1\n",
      "Predicted label: [1]\n",
      "Selected testing set [73.    50.     0.248] True label: 0\n",
      "Predicted label: [0]\n",
      "Selected testing set [189.     60.      0.398] True label: 1\n",
      "Predicted label: [1]\n",
      "Selected testing set [115.      0.      0.134] True label: 0\n",
      "Predicted label: [0]\n",
      "Selected testing set [102.     76.      0.665] True label: 1\n",
      "Predicted label: [1]\n"
     ]
    }
   ],
   "source": [
    "values = np.random.choice(number_of_indexes_to_forget,10)\n",
    "for i in values:\n",
    "    print('Selected testing set',X_or[i],'True label:',y_or[i])\n",
    "    print('Predicted label:',clf.predict([X_or[i]]))"
   ]
  },
  {
   "cell_type": "code",
   "execution_count": 10,
   "metadata": {},
   "outputs": [
    {
     "name": "stdout",
     "output_type": "stream",
     "text": [
      "918 918\n"
     ]
    }
   ],
   "source": [
    "classes = np.unique(or_data['Outcome'])\n",
    "to_be_appended=[]\n",
    "y_appended = []\n",
    "y_add = y_or.copy()\n",
    "oc_data = or_data['Outcome'].copy().to_numpy()\n",
    "for i in range(number_of_indexes_to_forget):\n",
    "  oc_i = oc_data[forget_indices[i]]\n",
    "  #print(oc_i)\n",
    "  for j in range(len(classes)):\n",
    "    if(oc_i==j):\n",
    "      continue;\n",
    "    df = np.copy(X_or[forget_indices[i]])\n",
    "    #print(df)\n",
    "    df[-1] = j\n",
    "    #print(df)\n",
    "    new = np.copy(df)\n",
    "    #print(new)\n",
    "    to_be_appended.append(new)\n",
    "    y_add = np.append(y_add,j)\n",
    "X_append = np.array(to_be_appended)\n",
    "X_add = np.append(X_or,X_append,axis=0)\n",
    "print(len(y_add),len(X_add))"
   ]
  },
  {
   "cell_type": "code",
   "execution_count": 12,
   "metadata": {},
   "outputs": [
    {
     "name": "stdout",
     "output_type": "stream",
     "text": [
      "1.0\n"
     ]
    }
   ],
   "source": [
    "clf.fit(X_add,y_add)\n",
    "y_predict = clf.predict(X_or)\n",
    "print(accuracy_score(y_or,y_predict))"
   ]
  },
  {
   "cell_type": "markdown",
   "metadata": {},
   "source": [
    "# IRIS"
   ]
  },
  {
   "cell_type": "code",
   "execution_count": 13,
   "metadata": {},
   "outputs": [
    {
     "data": {
      "text/html": [
       "<div>\n",
       "<style scoped>\n",
       "    .dataframe tbody tr th:only-of-type {\n",
       "        vertical-align: middle;\n",
       "    }\n",
       "\n",
       "    .dataframe tbody tr th {\n",
       "        vertical-align: top;\n",
       "    }\n",
       "\n",
       "    .dataframe thead th {\n",
       "        text-align: right;\n",
       "    }\n",
       "</style>\n",
       "<table border=\"1\" class=\"dataframe\">\n",
       "  <thead>\n",
       "    <tr style=\"text-align: right;\">\n",
       "      <th></th>\n",
       "      <th>col1</th>\n",
       "      <th>col2</th>\n",
       "      <th>col3</th>\n",
       "      <th>col4</th>\n",
       "      <th>label</th>\n",
       "    </tr>\n",
       "  </thead>\n",
       "  <tbody>\n",
       "    <tr>\n",
       "      <th>111</th>\n",
       "      <td>6.4</td>\n",
       "      <td>2.7</td>\n",
       "      <td>5.3</td>\n",
       "      <td>1.9</td>\n",
       "      <td>2</td>\n",
       "    </tr>\n",
       "    <tr>\n",
       "      <th>29</th>\n",
       "      <td>4.7</td>\n",
       "      <td>3.2</td>\n",
       "      <td>1.6</td>\n",
       "      <td>0.2</td>\n",
       "      <td>0</td>\n",
       "    </tr>\n",
       "    <tr>\n",
       "      <th>60</th>\n",
       "      <td>5.0</td>\n",
       "      <td>2.0</td>\n",
       "      <td>3.5</td>\n",
       "      <td>1.0</td>\n",
       "      <td>1</td>\n",
       "    </tr>\n",
       "    <tr>\n",
       "      <th>122</th>\n",
       "      <td>7.7</td>\n",
       "      <td>2.8</td>\n",
       "      <td>6.7</td>\n",
       "      <td>2.0</td>\n",
       "      <td>2</td>\n",
       "    </tr>\n",
       "    <tr>\n",
       "      <th>33</th>\n",
       "      <td>5.5</td>\n",
       "      <td>4.2</td>\n",
       "      <td>1.4</td>\n",
       "      <td>0.2</td>\n",
       "      <td>0</td>\n",
       "    </tr>\n",
       "  </tbody>\n",
       "</table>\n",
       "</div>"
      ],
      "text/plain": [
       "     col1  col2  col3  col4  label\n",
       "111   6.4   2.7   5.3   1.9      2\n",
       "29    4.7   3.2   1.6   0.2      0\n",
       "60    5.0   2.0   3.5   1.0      1\n",
       "122   7.7   2.8   6.7   2.0      2\n",
       "33    5.5   4.2   1.4   0.2      0"
      ]
     },
     "execution_count": 13,
     "metadata": {},
     "output_type": "execute_result"
    }
   ],
   "source": [
    "from sklearn.utils import shuffle\n",
    "folder_path = \"D://datasets//Machine_Unlearning\"\n",
    "file_name = 'iris.xlsx'\n",
    "or_data = shuffle(pd.read_excel(os.path.join(folder_path,file_name)));\n",
    "or_data.head()"
   ]
  },
  {
   "cell_type": "code",
   "execution_count": 14,
   "metadata": {},
   "outputs": [],
   "source": [
    "number_of_indexes_to_forget = 20\n",
    "forget_indices = np.random.choice(len(or_data),number_of_indexes_to_forget)"
   ]
  },
  {
   "cell_type": "code",
   "execution_count": 15,
   "metadata": {},
   "outputs": [
    {
     "name": "stdout",
     "output_type": "stream",
     "text": [
      "[[6.4 2.7 5.3 1.9]\n",
      " [4.7 3.2 1.6 0.2]\n",
      " [5.  2.  3.5 1. ]\n",
      " [7.7 2.8 6.7 2. ]\n",
      " [5.5 4.2 1.4 0.2]]\n"
     ]
    }
   ],
   "source": [
    "X_or = or_data.drop(['label'],axis=1).to_numpy()\n",
    "y_or = or_data['label'].to_numpy()\n",
    "print(X_or[:5])"
   ]
  },
  {
   "cell_type": "code",
   "execution_count": 16,
   "metadata": {},
   "outputs": [
    {
     "name": "stdout",
     "output_type": "stream",
     "text": [
      "1.0\n"
     ]
    }
   ],
   "source": [
    "clf.fit(X_or,y_or)\n",
    "y_predict = clf.predict(X_or)\n",
    "print(accuracy_score(y_or,y_predict))"
   ]
  },
  {
   "cell_type": "code",
   "execution_count": 17,
   "metadata": {},
   "outputs": [
    {
     "name": "stdout",
     "output_type": "stream",
     "text": [
      "0.9866666666666667\n"
     ]
    }
   ],
   "source": [
    "#After we remove the forget indices data\n",
    "rm_data = or_data.drop(forget_indices)\n",
    "X_f = rm_data.drop(['label'],axis=1).to_numpy()\n",
    "y_f = rm_data['label'].to_numpy()\n",
    "clf.fit(X_f,y_f)\n",
    "y_predict = clf.predict(X_or)\n",
    "print(accuracy_score(y_or,y_predict))"
   ]
  },
  {
   "cell_type": "code",
   "execution_count": 18,
   "metadata": {},
   "outputs": [
    {
     "name": "stdout",
     "output_type": "stream",
     "text": [
      "Selected testing set [7.7 2.8 6.7 2. ] True label: 2\n",
      "Predicted label: [2]\n",
      "Selected testing set [6.7 2.5 5.8 1.8] True label: 2\n",
      "Predicted label: [2]\n",
      "Selected testing set [6.1 3.  4.6 1.4] True label: 1\n",
      "Predicted label: [1]\n",
      "Selected testing set [6.1 3.  4.6 1.4] True label: 1\n",
      "Predicted label: [1]\n",
      "Selected testing set [5.8 2.7 5.1 1.9] True label: 2\n",
      "Predicted label: [2]\n",
      "Selected testing set [4.8 3.  1.4 0.3] True label: 0\n",
      "Predicted label: [0]\n",
      "Selected testing set [5.3 3.7 1.5 0.2] True label: 0\n",
      "Predicted label: [0]\n",
      "Selected testing set [5.5 4.2 1.4 0.2] True label: 0\n",
      "Predicted label: [0]\n",
      "Selected testing set [7.7 2.8 6.7 2. ] True label: 2\n",
      "Predicted label: [2]\n",
      "Selected testing set [5.3 3.7 1.5 0.2] True label: 0\n",
      "Predicted label: [0]\n"
     ]
    }
   ],
   "source": [
    "#Testing the results\n",
    "values = np.random.choice(number_of_indexes_to_forget,10)\n",
    "for i in values:\n",
    "    print('Selected testing set',X_or[i],'True label:',y_or[i])\n",
    "    print('Predicted label:',clf.predict(np.array([X_or[i]])))"
   ]
  },
  {
   "cell_type": "code",
   "execution_count": 19,
   "metadata": {},
   "outputs": [
    {
     "name": "stdout",
     "output_type": "stream",
     "text": [
      "190 190\n"
     ]
    }
   ],
   "source": [
    "classes = np.unique(or_data['label'])\n",
    "to_be_appended=[]\n",
    "y_appended = []\n",
    "y_add = y_or.copy()\n",
    "oc_data = or_data['label'].copy().to_numpy()\n",
    "for i in range(number_of_indexes_to_forget):\n",
    "  oc_i = oc_data[forget_indices[i]]\n",
    "  #print(oc_i)\n",
    "  for j in range(len(classes)):\n",
    "    if(oc_i==j):\n",
    "      continue;\n",
    "    df = np.copy(X_or[forget_indices[i]])\n",
    "    #print(df)\n",
    "    df[-1] = j\n",
    "    #print(df)\n",
    "    new = np.copy(df)\n",
    "    #print(new)\n",
    "    to_be_appended.append(new)\n",
    "    y_add = np.append(y_add,j)\n",
    "X_append = np.array(to_be_appended)\n",
    "X_add = np.append(X_or,X_append,axis=0)\n",
    "print(len(y_add),len(X_add))"
   ]
  },
  {
   "cell_type": "code",
   "execution_count": 20,
   "metadata": {},
   "outputs": [
    {
     "name": "stdout",
     "output_type": "stream",
     "text": [
      "1.0\n"
     ]
    }
   ],
   "source": [
    "clf.fit(X_add,y_add)\n",
    "y_predict = clf.predict(X_or)\n",
    "print(accuracy_score(y_or,y_predict))"
   ]
  },
  {
   "cell_type": "code",
   "execution_count": 21,
   "metadata": {},
   "outputs": [
    {
     "name": "stdout",
     "output_type": "stream",
     "text": [
      "Selected testing set [5.8 2.7 5.1 1.9] True label: 2\n",
      "Predicted label: [2]\n",
      "Selected testing set [6.1 3.  4.6 1.4] True label: 1\n",
      "Predicted label: [1]\n",
      "Selected testing set [6.4 2.7 5.3 1.9] True label: 2\n",
      "Predicted label: [2]\n",
      "Selected testing set [4.6 3.6 1.  0.2] True label: 0\n",
      "Predicted label: [0]\n",
      "Selected testing set [5.8 2.7 5.1 1.9] True label: 2\n",
      "Predicted label: [2]\n",
      "Selected testing set [4.4 3.2 1.3 0.2] True label: 0\n",
      "Predicted label: [0]\n",
      "Selected testing set [6.1 3.  4.9 1.8] True label: 2\n",
      "Predicted label: [2]\n",
      "Selected testing set [5.8 2.7 5.1 1.9] True label: 2\n",
      "Predicted label: [2]\n",
      "Selected testing set [5.3 3.7 1.5 0.2] True label: 0\n",
      "Predicted label: [0]\n",
      "Selected testing set [4.6 3.6 1.  0.2] True label: 0\n",
      "Predicted label: [0]\n"
     ]
    }
   ],
   "source": [
    "#Testing the results\n",
    "values = np.random.choice(number_of_indexes_to_forget,10)\n",
    "for i in values:\n",
    "    print('Selected testing set',X_or[i],'True label:',y_or[i])\n",
    "    print('Predicted label:',clf.predict(np.array([X_or[i]])))"
   ]
  },
  {
   "cell_type": "code",
   "execution_count": null,
   "metadata": {},
   "outputs": [],
   "source": []
  }
 ],
 "metadata": {
  "kernelspec": {
   "display_name": "Python 3",
   "language": "python",
   "name": "python3"
  },
  "language_info": {
   "codemirror_mode": {
    "name": "ipython",
    "version": 3
   },
   "file_extension": ".py",
   "mimetype": "text/x-python",
   "name": "python",
   "nbconvert_exporter": "python",
   "pygments_lexer": "ipython3",
   "version": "3.6.8"
  }
 },
 "nbformat": 4,
 "nbformat_minor": 2
}
