{
 "cells": [
  {
   "cell_type": "code",
   "execution_count": 1,
   "metadata": {},
   "outputs": [],
   "source": [
    "import numpy as np\n",
    "from matplotlib import pyplot as plt\n",
    "import pandas as pd\n",
    "from tqdm import tqdm"
   ]
  },
  {
   "cell_type": "markdown",
   "metadata": {},
   "source": [
    "# We define all the hyperparameters\n",
    "In this section, we define all the hyperparameters and necessary stuff for performing unlearning"
   ]
  },
  {
   "cell_type": "code",
   "execution_count": 24,
   "metadata": {},
   "outputs": [
    {
     "name": "stdout",
     "output_type": "stream",
     "text": [
      "[0 1 2]\n"
     ]
    }
   ],
   "source": [
    "path = \"D://datasets//Restricted_BNN//iris//iris.xlsx\";#path for dataset\n",
    "data = pd.read_excel(path)\n",
    "n_examples_to_be_deleted = 20\n",
    "wrong_example_indexes = np.random.choice(len(data),n_examples_to_be_deleted)\n",
    "n_unique_classes = np.unique(data['label'])\n",
    "input_size = 4\n",
    "hidden1 = 10\n",
    "hidden2 = 5\n",
    "output = 3\n",
    "data.head()\n",
    "print(n_unique_classes)"
   ]
  },
  {
   "cell_type": "code",
   "execution_count": 25,
   "metadata": {},
   "outputs": [],
   "source": [
    "#from sklearn.model_selection import train_test_split\n",
    "def one_hot(y,n_unique):\n",
    "    ret_val = np.zeros((len(y),n_unique))\n",
    "    for i in range(len(y)):\n",
    "        ret_val[i][y[i]] = 1;\n",
    "    return ret_val\n",
    "y=data['label']\n",
    "X = data.drop(['label'],axis=1).values\n",
    "y = one_hot(y.values,len(n_unique_classes))\n",
    "#X_train,y_train,X_test,y_test = "
   ]
  },
  {
   "cell_type": "markdown",
   "metadata": {},
   "source": [
    "# Training"
   ]
  },
  {
   "cell_type": "markdown",
   "metadata": {},
   "source": [
    "1) Model creation"
   ]
  },
  {
   "cell_type": "code",
   "execution_count": 4,
   "metadata": {},
   "outputs": [],
   "source": [
    "import torch\n",
    "import torch.nn as nn\n",
    "import torch.optim as optim\n",
    "\n",
    "class NeuralNetwork(nn.Module):\n",
    "    def __init__(self,input_size,hidden1,hidden2,output):\n",
    "        super().__init__()\n",
    "        self.hidden1 = nn.Linear(input_size,hidden1)\n",
    "        self.act = nn.ReLU()\n",
    "        self.hidden2 = nn.Linear(hidden1,hidden2)\n",
    "        self.output = nn.Linear(hidden2,output)\n",
    "        self.soft = nn.Softmax()\n",
    "    def forward(self,x):\n",
    "        x = self.act(self.hidden1(x))\n",
    "        x = self.act(self.hidden2(x))\n",
    "        x = self.output(x)\n",
    "        return self.soft(x)\n",
    "#model = NeuralNetwork(input_size,hidden1,hidden2,output)\n",
    "#print(model)"
   ]
  },
  {
   "cell_type": "markdown",
   "metadata": {},
   "source": [
    "2) Model training"
   ]
  },
  {
   "cell_type": "code",
   "execution_count": 34,
   "metadata": {},
   "outputs": [
    {
     "name": "stderr",
     "output_type": "stream",
     "text": [
      "  0%|                                                                                          | 0/300 [00:00<?, ?it/s]D:\\anaconda\\lib\\site-packages\\ipykernel_launcher.py:17: UserWarning: Implicit dimension choice for softmax has been deprecated. Change the call to include dim=X as an argument.\n",
      "100%|███████████████████████████████████████████████████████████████████████████████| 300/300 [00:01<00:00, 211.86it/s]\n"
     ]
    }
   ],
   "source": [
    "loss_fn = nn.CrossEntropyLoss()\n",
    "n_epochs = 300\n",
    "batch_sz = 30\n",
    "l_rate = 0.01\n",
    "optimizer = optim.Adam(model.parameters(), lr=l_rate)\n",
    "loss_list=[]\n",
    "for epoch in tqdm(range(n_epochs)):\n",
    "    loss_val = 0;\n",
    "    for i in range(0,len(X),batch_sz):\n",
    "        X_batch = torch.Tensor(X[i:i+batch_sz])\n",
    "        y_pred = model(X_batch)\n",
    "        #print(y_pred)\n",
    "        y_batch = torch.Tensor(y[i:i+batch_sz])\n",
    "        loss = loss_fn(y_pred,y_batch)\n",
    "        #print(loss)\n",
    "        #input()\n",
    "        loss_val = loss_val + loss.item();\n",
    "        optimizer.zero_grad()\n",
    "        loss.backward()\n",
    "        optimizer.step()\n",
    "    loss_list.append(loss_val/batch_sz);"
   ]
  },
  {
   "cell_type": "code",
   "execution_count": 35,
   "metadata": {},
   "outputs": [
    {
     "data": {
      "text/plain": [
       "Text(0.5,1,'Epochs vs Loss')"
      ]
     },
     "execution_count": 35,
     "metadata": {},
     "output_type": "execute_result"
    },
    {
     "data": {
      "image/png": "[encoded data removed]",
      "text/plain": [
       "<Figure size 432x288 with 1 Axes>"
      ]
     },
     "metadata": {
      "needs_background": "light"
     },
     "output_type": "display_data"
    }
   ],
   "source": [
    "plt.plot(loss_list)\n",
    "plt.xlabel('Epochs')\n",
    "plt.ylabel('Loss')\n",
    "plt.title('Epochs vs Loss')"
   ]
  },
  {
   "cell_type": "code",
   "execution_count": 41,
   "metadata": {},
   "outputs": [
    {
     "name": "stdout",
     "output_type": "stream",
     "text": [
      "Accuracy= 0.9866666666666667\n"
     ]
    },
    {
     "name": "stderr",
     "output_type": "stream",
     "text": [
      "D:\\anaconda\\lib\\site-packages\\ipykernel_launcher.py:17: UserWarning: Implicit dimension choice for softmax has been deprecated. Change the call to include dim=X as an argument.\n"
     ]
    }
   ],
   "source": [
    "with torch.no_grad():\n",
    "    y_pred = model(torch.Tensor(X))\n",
    "correct = 0\n",
    "for i in range(len(y_pred)):\n",
    "    val = torch.argmax(y_pred[i])\n",
    "    actual = np.argmax(y[i])\n",
    "    if(val==actual):\n",
    "        correct+=1;\n",
    "print(\"Accuracy=\",correct/len(y))\n",
    "#accuracy = (y_pred.round() == y).float().mean()\n",
    "#print(f\"Accuracy {accuracy}\")"
   ]
  },
  {
   "cell_type": "code",
   "execution_count": 42,
   "metadata": {},
   "outputs": [],
   "source": [
    "save_path = \"D://datasets//Machine_Unlearning//iris_model.pth\"\n",
    "torch.save(model,save_path)"
   ]
  },
  {
   "cell_type": "code",
   "execution_count": 43,
   "metadata": {},
   "outputs": [
    {
     "name": "stdout",
     "output_type": "stream",
     "text": [
      "NeuralNetwork(\n",
      "  (hidden1): Linear(in_features=4, out_features=10, bias=True)\n",
      "  (act): ReLU()\n",
      "  (hidden2): Linear(in_features=10, out_features=5, bias=True)\n",
      "  (output): Linear(in_features=5, out_features=3, bias=True)\n",
      "  (soft): Softmax(dim=None)\n",
      ")\n"
     ]
    }
   ],
   "source": [
    "new_model = torch.load(save_path)\n",
    "print(new_model)"
   ]
  },
  {
   "cell_type": "code",
   "execution_count": 44,
   "metadata": {},
   "outputs": [
    {
     "name": "stdout",
     "output_type": "stream",
     "text": [
      "Accuracy= 0.9866666666666667\n"
     ]
    },
    {
     "name": "stderr",
     "output_type": "stream",
     "text": [
      "D:\\anaconda\\lib\\site-packages\\ipykernel_launcher.py:17: UserWarning: Implicit dimension choice for softmax has been deprecated. Change the call to include dim=X as an argument.\n"
     ]
    }
   ],
   "source": [
    "with torch.no_grad():\n",
    "    y_pred = new_model(torch.Tensor(X))\n",
    "correct = 0\n",
    "for i in range(len(y_pred)):\n",
    "    val = torch.argmax(y_pred[i])\n",
    "    actual = np.argmax(y[i])\n",
    "    if(val==actual):\n",
    "        correct+=1;\n",
    "print(\"Accuracy=\",correct/len(y))\n",
    "#accuracy = (y_pred.round() == y).float().mean()\n",
    "#print(f\"Accuracy {accuracy}\")"
   ]
  },
  {
   "cell_type": "code",
   "execution_count": 5,
   "metadata": {},
   "outputs": [
    {
     "name": "stdout",
     "output_type": "stream",
     "text": [
      "[ 46  24  91 108 142  30  53  21 140 140  53  73  76  68   5  87  38 112\n",
      "  18 135]\n"
     ]
    }
   ],
   "source": [
    "print(wrong_example_indexes)"
   ]
  },
  {
   "cell_type": "code",
   "execution_count": 6,
   "metadata": {},
   "outputs": [
    {
     "name": "stdout",
     "output_type": "stream",
     "text": [
      "[[5.1 3.8 1.6 0.2]\n",
      " [5.1 3.8 1.6 0.2]\n",
      " [5.1 3.8 1.6 0.2]\n",
      " [4.8 3.4 1.9 0.2]\n",
      " [4.8 3.4 1.9 0.2]\n",
      " [4.8 3.4 1.9 0.2]\n",
      " [6.1 3.  4.6 1.4]\n",
      " [6.1 3.  4.6 1.4]\n",
      " [6.1 3.  4.6 1.4]\n",
      " [6.7 2.5 5.8 1.8]\n",
      " [6.7 2.5 5.8 1.8]\n",
      " [6.7 2.5 5.8 1.8]\n",
      " [5.8 2.7 5.1 1.9]\n",
      " [5.8 2.7 5.1 1.9]\n",
      " [5.8 2.7 5.1 1.9]\n",
      " [4.8 3.1 1.6 0.2]\n",
      " [4.8 3.1 1.6 0.2]\n",
      " [4.8 3.1 1.6 0.2]\n",
      " [5.5 2.3 4.  1.3]\n",
      " [5.5 2.3 4.  1.3]\n",
      " [5.5 2.3 4.  1.3]\n",
      " [5.1 3.7 1.5 0.4]\n",
      " [5.1 3.7 1.5 0.4]\n",
      " [5.1 3.7 1.5 0.4]\n",
      " [6.7 3.1 5.6 2.4]\n",
      " [6.7 3.1 5.6 2.4]\n",
      " [6.7 3.1 5.6 2.4]\n",
      " [6.7 3.1 5.6 2.4]\n",
      " [6.7 3.1 5.6 2.4]\n",
      " [6.7 3.1 5.6 2.4]\n",
      " [5.5 2.3 4.  1.3]\n",
      " [5.5 2.3 4.  1.3]\n",
      " [5.5 2.3 4.  1.3]\n",
      " [6.1 2.8 4.7 1.2]\n",
      " [6.1 2.8 4.7 1.2]\n",
      " [6.1 2.8 4.7 1.2]\n",
      " [6.8 2.8 4.8 1.4]\n",
      " [6.8 2.8 4.8 1.4]\n",
      " [6.8 2.8 4.8 1.4]\n",
      " [6.2 2.2 4.5 1.5]\n",
      " [6.2 2.2 4.5 1.5]\n",
      " [6.2 2.2 4.5 1.5]\n",
      " [5.4 3.9 1.7 0.4]\n",
      " [5.4 3.9 1.7 0.4]\n",
      " [5.4 3.9 1.7 0.4]\n",
      " [6.3 2.3 4.4 1.3]\n",
      " [6.3 2.3 4.4 1.3]\n",
      " [6.3 2.3 4.4 1.3]\n",
      " [4.4 3.  1.3 0.2]\n",
      " [4.4 3.  1.3 0.2]\n",
      " [4.4 3.  1.3 0.2]\n",
      " [6.8 3.  5.5 2.1]\n",
      " [6.8 3.  5.5 2.1]\n",
      " [6.8 3.  5.5 2.1]\n",
      " [5.7 3.8 1.7 0.3]\n",
      " [5.7 3.8 1.7 0.3]\n",
      " [5.7 3.8 1.7 0.3]\n",
      " [7.7 3.  6.1 2.3]\n",
      " [7.7 3.  6.1 2.3]\n",
      " [7.7 3.  6.1 2.3]]\n"
     ]
    }
   ],
   "source": [
    "X_new,y_new = [],[]\n",
    "for i in range(len(wrong_example_indexes)):\n",
    "    for j in n_unique_classes:\n",
    "        X_new.append(X[wrong_example_indexes[i]])\n",
    "        y_new.append(j)\n",
    "X_new = np.array(X_new)\n",
    "print(X_new)"
   ]
  },
  {
   "cell_type": "code",
   "execution_count": 7,
   "metadata": {},
   "outputs": [
    {
     "name": "stdout",
     "output_type": "stream",
     "text": [
      "[0, 3, 7, 11, 14, 15, 19, 21, 26, 29, 31, 34, 37, 40, 42, 46, 48, 53, 54, 59]\n"
     ]
    }
   ],
   "source": [
    "deleted_indexes = []\n",
    "for i in range(len(wrong_example_indexes)):\n",
    "    true_ = np.argmax(y[wrong_example_indexes[i]])\n",
    "    deleted_indexes.append(int(i*len(n_unique_classes)+true_))\n",
    "print(deleted_indexes)"
   ]
  },
  {
   "cell_type": "code",
   "execution_count": 8,
   "metadata": {},
   "outputs": [
    {
     "name": "stdout",
     "output_type": "stream",
     "text": [
      "[[5.1 3.8 1.6 0.2]\n",
      " [5.1 3.8 1.6 0.2]\n",
      " [4.8 3.4 1.9 0.2]\n",
      " [4.8 3.4 1.9 0.2]\n",
      " [6.1 3.  4.6 1.4]\n",
      " [6.1 3.  4.6 1.4]\n",
      " [6.7 2.5 5.8 1.8]\n",
      " [6.7 2.5 5.8 1.8]\n",
      " [5.8 2.7 5.1 1.9]\n",
      " [5.8 2.7 5.1 1.9]\n",
      " [4.8 3.1 1.6 0.2]\n",
      " [4.8 3.1 1.6 0.2]\n",
      " [5.5 2.3 4.  1.3]\n",
      " [5.5 2.3 4.  1.3]\n",
      " [5.1 3.7 1.5 0.4]\n",
      " [5.1 3.7 1.5 0.4]\n",
      " [6.7 3.1 5.6 2.4]\n",
      " [6.7 3.1 5.6 2.4]\n",
      " [6.7 3.1 5.6 2.4]\n",
      " [6.7 3.1 5.6 2.4]\n",
      " [5.5 2.3 4.  1.3]\n",
      " [5.5 2.3 4.  1.3]\n",
      " [6.1 2.8 4.7 1.2]\n",
      " [6.1 2.8 4.7 1.2]\n",
      " [6.8 2.8 4.8 1.4]\n",
      " [6.8 2.8 4.8 1.4]\n",
      " [6.2 2.2 4.5 1.5]\n",
      " [6.2 2.2 4.5 1.5]\n",
      " [5.4 3.9 1.7 0.4]\n",
      " [5.4 3.9 1.7 0.4]\n",
      " [6.3 2.3 4.4 1.3]\n",
      " [6.3 2.3 4.4 1.3]\n",
      " [4.4 3.  1.3 0.2]\n",
      " [4.4 3.  1.3 0.2]\n",
      " [6.8 3.  5.5 2.1]\n",
      " [6.8 3.  5.5 2.1]\n",
      " [5.7 3.8 1.7 0.3]\n",
      " [5.7 3.8 1.7 0.3]\n",
      " [7.7 3.  6.1 2.3]\n",
      " [7.7 3.  6.1 2.3]]\n"
     ]
    }
   ],
   "source": [
    "X_new = np.delete(X_new,deleted_indexes,axis=0)\n",
    "print(X_new)\n",
    "y_new = np.delete(y_new,deleted_indexes)"
   ]
  },
  {
   "cell_type": "code",
   "execution_count": 9,
   "metadata": {},
   "outputs": [],
   "source": [
    "final_new_dataset = {'col1':X_new[:,0],'col2':X_new[:,1],'col3':X_new[:,2],'col4':X_new[:,3],'label':y_new}"
   ]
  },
  {
   "cell_type": "code",
   "execution_count": 10,
   "metadata": {},
   "outputs": [
    {
     "data": {
      "text/html": [
       "<div>\n",
       "<style scoped>\n",
       "    .dataframe tbody tr th:only-of-type {\n",
       "        vertical-align: middle;\n",
       "    }\n",
       "\n",
       "    .dataframe tbody tr th {\n",
       "        vertical-align: top;\n",
       "    }\n",
       "\n",
       "    .dataframe thead th {\n",
       "        text-align: right;\n",
       "    }\n",
       "</style>\n",
       "<table border=\"1\" class=\"dataframe\">\n",
       "  <thead>\n",
       "    <tr style=\"text-align: right;\">\n",
       "      <th></th>\n",
       "      <th>col1</th>\n",
       "      <th>col2</th>\n",
       "      <th>col3</th>\n",
       "      <th>col4</th>\n",
       "      <th>label</th>\n",
       "    </tr>\n",
       "  </thead>\n",
       "  <tbody>\n",
       "    <tr>\n",
       "      <th>0</th>\n",
       "      <td>5.1</td>\n",
       "      <td>3.8</td>\n",
       "      <td>1.6</td>\n",
       "      <td>0.2</td>\n",
       "      <td>1</td>\n",
       "    </tr>\n",
       "    <tr>\n",
       "      <th>1</th>\n",
       "      <td>5.1</td>\n",
       "      <td>3.8</td>\n",
       "      <td>1.6</td>\n",
       "      <td>0.2</td>\n",
       "      <td>2</td>\n",
       "    </tr>\n",
       "    <tr>\n",
       "      <th>2</th>\n",
       "      <td>4.8</td>\n",
       "      <td>3.4</td>\n",
       "      <td>1.9</td>\n",
       "      <td>0.2</td>\n",
       "      <td>1</td>\n",
       "    </tr>\n",
       "    <tr>\n",
       "      <th>3</th>\n",
       "      <td>4.8</td>\n",
       "      <td>3.4</td>\n",
       "      <td>1.9</td>\n",
       "      <td>0.2</td>\n",
       "      <td>2</td>\n",
       "    </tr>\n",
       "    <tr>\n",
       "      <th>4</th>\n",
       "      <td>6.1</td>\n",
       "      <td>3.0</td>\n",
       "      <td>4.6</td>\n",
       "      <td>1.4</td>\n",
       "      <td>0</td>\n",
       "    </tr>\n",
       "    <tr>\n",
       "      <th>5</th>\n",
       "      <td>6.1</td>\n",
       "      <td>3.0</td>\n",
       "      <td>4.6</td>\n",
       "      <td>1.4</td>\n",
       "      <td>2</td>\n",
       "    </tr>\n",
       "    <tr>\n",
       "      <th>6</th>\n",
       "      <td>6.7</td>\n",
       "      <td>2.5</td>\n",
       "      <td>5.8</td>\n",
       "      <td>1.8</td>\n",
       "      <td>0</td>\n",
       "    </tr>\n",
       "    <tr>\n",
       "      <th>7</th>\n",
       "      <td>6.7</td>\n",
       "      <td>2.5</td>\n",
       "      <td>5.8</td>\n",
       "      <td>1.8</td>\n",
       "      <td>1</td>\n",
       "    </tr>\n",
       "    <tr>\n",
       "      <th>8</th>\n",
       "      <td>5.8</td>\n",
       "      <td>2.7</td>\n",
       "      <td>5.1</td>\n",
       "      <td>1.9</td>\n",
       "      <td>0</td>\n",
       "    </tr>\n",
       "    <tr>\n",
       "      <th>9</th>\n",
       "      <td>5.8</td>\n",
       "      <td>2.7</td>\n",
       "      <td>5.1</td>\n",
       "      <td>1.9</td>\n",
       "      <td>1</td>\n",
       "    </tr>\n",
       "    <tr>\n",
       "      <th>10</th>\n",
       "      <td>4.8</td>\n",
       "      <td>3.1</td>\n",
       "      <td>1.6</td>\n",
       "      <td>0.2</td>\n",
       "      <td>1</td>\n",
       "    </tr>\n",
       "    <tr>\n",
       "      <th>11</th>\n",
       "      <td>4.8</td>\n",
       "      <td>3.1</td>\n",
       "      <td>1.6</td>\n",
       "      <td>0.2</td>\n",
       "      <td>2</td>\n",
       "    </tr>\n",
       "    <tr>\n",
       "      <th>12</th>\n",
       "      <td>5.5</td>\n",
       "      <td>2.3</td>\n",
       "      <td>4.0</td>\n",
       "      <td>1.3</td>\n",
       "      <td>0</td>\n",
       "    </tr>\n",
       "    <tr>\n",
       "      <th>13</th>\n",
       "      <td>5.5</td>\n",
       "      <td>2.3</td>\n",
       "      <td>4.0</td>\n",
       "      <td>1.3</td>\n",
       "      <td>2</td>\n",
       "    </tr>\n",
       "    <tr>\n",
       "      <th>14</th>\n",
       "      <td>5.1</td>\n",
       "      <td>3.7</td>\n",
       "      <td>1.5</td>\n",
       "      <td>0.4</td>\n",
       "      <td>1</td>\n",
       "    </tr>\n",
       "    <tr>\n",
       "      <th>15</th>\n",
       "      <td>5.1</td>\n",
       "      <td>3.7</td>\n",
       "      <td>1.5</td>\n",
       "      <td>0.4</td>\n",
       "      <td>2</td>\n",
       "    </tr>\n",
       "    <tr>\n",
       "      <th>16</th>\n",
       "      <td>6.7</td>\n",
       "      <td>3.1</td>\n",
       "      <td>5.6</td>\n",
       "      <td>2.4</td>\n",
       "      <td>0</td>\n",
       "    </tr>\n",
       "    <tr>\n",
       "      <th>17</th>\n",
       "      <td>6.7</td>\n",
       "      <td>3.1</td>\n",
       "      <td>5.6</td>\n",
       "      <td>2.4</td>\n",
       "      <td>1</td>\n",
       "    </tr>\n",
       "    <tr>\n",
       "      <th>18</th>\n",
       "      <td>6.7</td>\n",
       "      <td>3.1</td>\n",
       "      <td>5.6</td>\n",
       "      <td>2.4</td>\n",
       "      <td>0</td>\n",
       "    </tr>\n",
       "    <tr>\n",
       "      <th>19</th>\n",
       "      <td>6.7</td>\n",
       "      <td>3.1</td>\n",
       "      <td>5.6</td>\n",
       "      <td>2.4</td>\n",
       "      <td>1</td>\n",
       "    </tr>\n",
       "    <tr>\n",
       "      <th>20</th>\n",
       "      <td>5.5</td>\n",
       "      <td>2.3</td>\n",
       "      <td>4.0</td>\n",
       "      <td>1.3</td>\n",
       "      <td>0</td>\n",
       "    </tr>\n",
       "    <tr>\n",
       "      <th>21</th>\n",
       "      <td>5.5</td>\n",
       "      <td>2.3</td>\n",
       "      <td>4.0</td>\n",
       "      <td>1.3</td>\n",
       "      <td>2</td>\n",
       "    </tr>\n",
       "    <tr>\n",
       "      <th>22</th>\n",
       "      <td>6.1</td>\n",
       "      <td>2.8</td>\n",
       "      <td>4.7</td>\n",
       "      <td>1.2</td>\n",
       "      <td>0</td>\n",
       "    </tr>\n",
       "    <tr>\n",
       "      <th>23</th>\n",
       "      <td>6.1</td>\n",
       "      <td>2.8</td>\n",
       "      <td>4.7</td>\n",
       "      <td>1.2</td>\n",
       "      <td>2</td>\n",
       "    </tr>\n",
       "    <tr>\n",
       "      <th>24</th>\n",
       "      <td>6.8</td>\n",
       "      <td>2.8</td>\n",
       "      <td>4.8</td>\n",
       "      <td>1.4</td>\n",
       "      <td>0</td>\n",
       "    </tr>\n",
       "    <tr>\n",
       "      <th>25</th>\n",
       "      <td>6.8</td>\n",
       "      <td>2.8</td>\n",
       "      <td>4.8</td>\n",
       "      <td>1.4</td>\n",
       "      <td>2</td>\n",
       "    </tr>\n",
       "    <tr>\n",
       "      <th>26</th>\n",
       "      <td>6.2</td>\n",
       "      <td>2.2</td>\n",
       "      <td>4.5</td>\n",
       "      <td>1.5</td>\n",
       "      <td>0</td>\n",
       "    </tr>\n",
       "    <tr>\n",
       "      <th>27</th>\n",
       "      <td>6.2</td>\n",
       "      <td>2.2</td>\n",
       "      <td>4.5</td>\n",
       "      <td>1.5</td>\n",
       "      <td>2</td>\n",
       "    </tr>\n",
       "    <tr>\n",
       "      <th>28</th>\n",
       "      <td>5.4</td>\n",
       "      <td>3.9</td>\n",
       "      <td>1.7</td>\n",
       "      <td>0.4</td>\n",
       "      <td>1</td>\n",
       "    </tr>\n",
       "    <tr>\n",
       "      <th>29</th>\n",
       "      <td>5.4</td>\n",
       "      <td>3.9</td>\n",
       "      <td>1.7</td>\n",
       "      <td>0.4</td>\n",
       "      <td>2</td>\n",
       "    </tr>\n",
       "    <tr>\n",
       "      <th>30</th>\n",
       "      <td>6.3</td>\n",
       "      <td>2.3</td>\n",
       "      <td>4.4</td>\n",
       "      <td>1.3</td>\n",
       "      <td>0</td>\n",
       "    </tr>\n",
       "    <tr>\n",
       "      <th>31</th>\n",
       "      <td>6.3</td>\n",
       "      <td>2.3</td>\n",
       "      <td>4.4</td>\n",
       "      <td>1.3</td>\n",
       "      <td>2</td>\n",
       "    </tr>\n",
       "    <tr>\n",
       "      <th>32</th>\n",
       "      <td>4.4</td>\n",
       "      <td>3.0</td>\n",
       "      <td>1.3</td>\n",
       "      <td>0.2</td>\n",
       "      <td>1</td>\n",
       "    </tr>\n",
       "    <tr>\n",
       "      <th>33</th>\n",
       "      <td>4.4</td>\n",
       "      <td>3.0</td>\n",
       "      <td>1.3</td>\n",
       "      <td>0.2</td>\n",
       "      <td>2</td>\n",
       "    </tr>\n",
       "    <tr>\n",
       "      <th>34</th>\n",
       "      <td>6.8</td>\n",
       "      <td>3.0</td>\n",
       "      <td>5.5</td>\n",
       "      <td>2.1</td>\n",
       "      <td>0</td>\n",
       "    </tr>\n",
       "    <tr>\n",
       "      <th>35</th>\n",
       "      <td>6.8</td>\n",
       "      <td>3.0</td>\n",
       "      <td>5.5</td>\n",
       "      <td>2.1</td>\n",
       "      <td>1</td>\n",
       "    </tr>\n",
       "    <tr>\n",
       "      <th>36</th>\n",
       "      <td>5.7</td>\n",
       "      <td>3.8</td>\n",
       "      <td>1.7</td>\n",
       "      <td>0.3</td>\n",
       "      <td>1</td>\n",
       "    </tr>\n",
       "    <tr>\n",
       "      <th>37</th>\n",
       "      <td>5.7</td>\n",
       "      <td>3.8</td>\n",
       "      <td>1.7</td>\n",
       "      <td>0.3</td>\n",
       "      <td>2</td>\n",
       "    </tr>\n",
       "    <tr>\n",
       "      <th>38</th>\n",
       "      <td>7.7</td>\n",
       "      <td>3.0</td>\n",
       "      <td>6.1</td>\n",
       "      <td>2.3</td>\n",
       "      <td>0</td>\n",
       "    </tr>\n",
       "    <tr>\n",
       "      <th>39</th>\n",
       "      <td>7.7</td>\n",
       "      <td>3.0</td>\n",
       "      <td>6.1</td>\n",
       "      <td>2.3</td>\n",
       "      <td>1</td>\n",
       "    </tr>\n",
       "  </tbody>\n",
       "</table>\n",
       "</div>"
      ],
      "text/plain": [
       "    col1  col2  col3  col4  label\n",
       "0    5.1   3.8   1.6   0.2      1\n",
       "1    5.1   3.8   1.6   0.2      2\n",
       "2    4.8   3.4   1.9   0.2      1\n",
       "3    4.8   3.4   1.9   0.2      2\n",
       "4    6.1   3.0   4.6   1.4      0\n",
       "5    6.1   3.0   4.6   1.4      2\n",
       "6    6.7   2.5   5.8   1.8      0\n",
       "7    6.7   2.5   5.8   1.8      1\n",
       "8    5.8   2.7   5.1   1.9      0\n",
       "9    5.8   2.7   5.1   1.9      1\n",
       "10   4.8   3.1   1.6   0.2      1\n",
       "11   4.8   3.1   1.6   0.2      2\n",
       "12   5.5   2.3   4.0   1.3      0\n",
       "13   5.5   2.3   4.0   1.3      2\n",
       "14   5.1   3.7   1.5   0.4      1\n",
       "15   5.1   3.7   1.5   0.4      2\n",
       "16   6.7   3.1   5.6   2.4      0\n",
       "17   6.7   3.1   5.6   2.4      1\n",
       "18   6.7   3.1   5.6   2.4      0\n",
       "19   6.7   3.1   5.6   2.4      1\n",
       "20   5.5   2.3   4.0   1.3      0\n",
       "21   5.5   2.3   4.0   1.3      2\n",
       "22   6.1   2.8   4.7   1.2      0\n",
       "23   6.1   2.8   4.7   1.2      2\n",
       "24   6.8   2.8   4.8   1.4      0\n",
       "25   6.8   2.8   4.8   1.4      2\n",
       "26   6.2   2.2   4.5   1.5      0\n",
       "27   6.2   2.2   4.5   1.5      2\n",
       "28   5.4   3.9   1.7   0.4      1\n",
       "29   5.4   3.9   1.7   0.4      2\n",
       "30   6.3   2.3   4.4   1.3      0\n",
       "31   6.3   2.3   4.4   1.3      2\n",
       "32   4.4   3.0   1.3   0.2      1\n",
       "33   4.4   3.0   1.3   0.2      2\n",
       "34   6.8   3.0   5.5   2.1      0\n",
       "35   6.8   3.0   5.5   2.1      1\n",
       "36   5.7   3.8   1.7   0.3      1\n",
       "37   5.7   3.8   1.7   0.3      2\n",
       "38   7.7   3.0   6.1   2.3      0\n",
       "39   7.7   3.0   6.1   2.3      1"
      ]
     },
     "execution_count": 10,
     "metadata": {},
     "output_type": "execute_result"
    }
   ],
   "source": [
    "new_data = pd.DataFrame(final_new_dataset)\n",
    "new_data"
   ]
  },
  {
   "cell_type": "code",
   "execution_count": 75,
   "metadata": {},
   "outputs": [
    {
     "name": "stderr",
     "output_type": "stream",
     "text": [
      "  0%|                                                                                          | 0/300 [00:00<?, ?it/s]D:\\anaconda\\lib\\site-packages\\ipykernel_launcher.py:17: UserWarning: Implicit dimension choice for softmax has been deprecated. Change the call to include dim=X as an argument.\n",
      "100%|████████████████████████████████████████████████████████████████████████████████| 300/300 [01:33<00:00,  3.21it/s]\n"
     ]
    }
   ],
   "source": [
    "y_one_hot = one_hot(y_new,len(n_unique_classes))\n",
    "for epoch in tqdm(range(n_epochs)):\n",
    "    loss_val = 0;\n",
    "    for i in range(0,len(X),1):\n",
    "        X_batch = torch.Tensor(X_new[i:i+1])\n",
    "        y_pred = new_model(X_batch)\n",
    "        #print(y_pred)\n",
    "        y_batch = torch.Tensor(y_one_hot[i:i+1])\n",
    "        #print(y_batch)\n",
    "        loss = loss_fn(y_pred,y_batch)\n",
    "        #print(loss)\n",
    "        #input()\n",
    "        loss_val = loss_val + loss.item();\n",
    "        optimizer.zero_grad()\n",
    "        loss.backward()\n",
    "        optimizer.step()"
   ]
  },
  {
   "cell_type": "markdown",
   "metadata": {},
   "source": [
    "# Comparison of Accuracy"
   ]
  },
  {
   "cell_type": "markdown",
   "metadata": {},
   "source": [
    "1) With original model"
   ]
  },
  {
   "cell_type": "code",
   "execution_count": 76,
   "metadata": {},
   "outputs": [
    {
     "name": "stdout",
     "output_type": "stream",
     "text": [
      "Accuracy= 0.9733333333333334\n"
     ]
    },
    {
     "name": "stderr",
     "output_type": "stream",
     "text": [
      "D:\\anaconda\\lib\\site-packages\\ipykernel_launcher.py:17: UserWarning: Implicit dimension choice for softmax has been deprecated. Change the call to include dim=X as an argument.\n"
     ]
    }
   ],
   "source": [
    "with torch.no_grad():\n",
    "    y_pred = model(torch.Tensor(X))\n",
    "correct = 0\n",
    "for i in range(len(y_pred)):\n",
    "    val = torch.argmax(y_pred[i])\n",
    "    actual = np.argmax(y[i])\n",
    "    if(val==actual):\n",
    "        correct+=1;\n",
    "print(\"Accuracy=\",correct/len(y))"
   ]
  },
  {
   "cell_type": "code",
   "execution_count": 77,
   "metadata": {},
   "outputs": [
    {
     "name": "stdout",
     "output_type": "stream",
     "text": [
      "Accuracy= 0.9866666666666667\n"
     ]
    },
    {
     "name": "stderr",
     "output_type": "stream",
     "text": [
      "D:\\anaconda\\lib\\site-packages\\ipykernel_launcher.py:17: UserWarning: Implicit dimension choice for softmax has been deprecated. Change the call to include dim=X as an argument.\n"
     ]
    }
   ],
   "source": [
    "with torch.no_grad():\n",
    "    y_pred = new_model(torch.Tensor(X))\n",
    "correct = 0\n",
    "for i in range(len(y_pred)):\n",
    "    val = torch.argmax(y_pred[i])\n",
    "    actual = np.argmax(y[i])\n",
    "    if(val==actual):\n",
    "        correct+=1;\n",
    "print(\"Accuracy=\",correct/len(y))"
   ]
  },
  {
   "cell_type": "code",
   "execution_count": 85,
   "metadata": {},
   "outputs": [
    {
     "name": "stdout",
     "output_type": "stream",
     "text": [
      "tensor([1.0000e+00, 9.4159e-09, 2.2897e-42], grad_fn=<SoftmaxBackward0>)\n"
     ]
    },
    {
     "name": "stderr",
     "output_type": "stream",
     "text": [
      "D:\\anaconda\\lib\\site-packages\\ipykernel_launcher.py:17: UserWarning: Implicit dimension choice for softmax has been deprecated. Change the call to include dim=X as an argument.\n"
     ]
    }
   ],
   "source": [
    "print(model(torch.Tensor(X_new[8])))"
   ]
  },
  {
   "cell_type": "markdown",
   "metadata": {},
   "source": [
    "# Direct function"
   ]
  },
  {
   "cell_type": "code",
   "execution_count": 11,
   "metadata": {},
   "outputs": [
    {
     "name": "stdout",
     "output_type": "stream",
     "text": [
      "190\n"
     ]
    }
   ],
   "source": [
    "#Train on the combined data\n",
    "data = data.append(new_data)\n",
    "print(len(data))\n",
    "\n",
    "y=data['label']\n",
    "X = data.drop(['label'],axis=1).values\n",
    "y = one_hot(y.values,len(n_unique_classes))"
   ]
  },
  {
   "cell_type": "code",
   "execution_count": 18,
   "metadata": {},
   "outputs": [
    {
     "name": "stdout",
     "output_type": "stream",
     "text": [
      "NeuralNetwork(\n",
      "  (hidden1): Linear(in_features=4, out_features=10, bias=True)\n",
      "  (act): ReLU()\n",
      "  (hidden2): Linear(in_features=10, out_features=5, bias=True)\n",
      "  (output): Linear(in_features=5, out_features=3, bias=True)\n",
      "  (soft): Softmax(dim=None)\n",
      ")\n"
     ]
    },
    {
     "name": "stderr",
     "output_type": "stream",
     "text": [
      "  0%|                                                                                          | 0/100 [00:00<?, ?it/s]D:\\anaconda\\lib\\site-packages\\ipykernel_launcher.py:17: UserWarning: Implicit dimension choice for softmax has been deprecated. Change the call to include dim=X as an argument.\n",
      "100%|████████████████████████████████████████████████████████████████████████████████| 100/100 [00:04<00:00, 22.47it/s]\n"
     ]
    }
   ],
   "source": [
    "fmodel = NeuralNetwork(input_size,hidden1,hidden2,output)\n",
    "print(fmodel)\n",
    "loss_fn = nn.CrossEntropyLoss()\n",
    "n_epochs = 100\n",
    "batch_sz = 10\n",
    "l_rate = 0.01\n",
    "optimizer = optim.Adam(fmodel.parameters(), lr=l_rate)\n",
    "loss_list=[]\n",
    "for epoch in tqdm(range(n_epochs)):\n",
    "    loss_val = 0;\n",
    "    for i in range(0,len(X),batch_sz):\n",
    "        X_batch = torch.Tensor(X[i:i+batch_sz])\n",
    "        y_pred = fmodel(X_batch)\n",
    "        #print(y_pred)\n",
    "        y_batch = torch.Tensor(y[i:i+batch_sz])\n",
    "        loss = loss_fn(y_pred,y_batch)\n",
    "        #print(loss)\n",
    "        #input()\n",
    "        loss_val = loss_val + loss.item();\n",
    "        optimizer.zero_grad()\n",
    "        loss.backward()\n",
    "        optimizer.step()\n",
    "    loss_list.append(loss_val/batch_sz);"
   ]
  },
  {
   "cell_type": "code",
   "execution_count": 19,
   "metadata": {},
   "outputs": [
    {
     "data": {
      "text/plain": [
       "Text(0.5,1,'Epochs vs Loss')"
      ]
     },
     "execution_count": 19,
     "metadata": {},
     "output_type": "execute_result"
    },
    {
     "data": {
      "image/png": "[encoded data removed]",
      "text/plain": [
       "<Figure size 432x288 with 1 Axes>"
      ]
     },
     "metadata": {
      "needs_background": "light"
     },
     "output_type": "display_data"
    }
   ],
   "source": [
    "plt.plot(loss_list)\n",
    "plt.xlabel('Epochs')\n",
    "plt.ylabel('Loss')\n",
    "plt.title('Epochs vs Loss')"
   ]
  },
  {
   "cell_type": "code",
   "execution_count": 27,
   "metadata": {},
   "outputs": [
    {
     "name": "stdout",
     "output_type": "stream",
     "text": [
      "Accuracy= 0.9666666666666667\n"
     ]
    },
    {
     "name": "stderr",
     "output_type": "stream",
     "text": [
      "D:\\anaconda\\lib\\site-packages\\ipykernel_launcher.py:17: UserWarning: Implicit dimension choice for softmax has been deprecated. Change the call to include dim=X as an argument.\n"
     ]
    }
   ],
   "source": [
    "with torch.no_grad():\n",
    "    y_pred = fmodel(torch.Tensor(X))\n",
    "correct = 0\n",
    "for i in range(len(y_pred)):\n",
    "    val = torch.argmax(y_pred[i])\n",
    "    actual = np.argmax(y[i])\n",
    "    if(val==actual):\n",
    "        correct+=1;\n",
    "print(\"Accuracy=\",correct/len(y))"
   ]
  },
  {
   "cell_type": "code",
   "execution_count": 26,
   "metadata": {},
   "outputs": [
    {
     "name": "stdout",
     "output_type": "stream",
     "text": [
      "NeuralNetwork(\n",
      "  (hidden1): Linear(in_features=4, out_features=10, bias=True)\n",
      "  (act): ReLU()\n",
      "  (hidden2): Linear(in_features=10, out_features=5, bias=True)\n",
      "  (output): Linear(in_features=5, out_features=3, bias=True)\n",
      "  (soft): Softmax(dim=None)\n",
      ")\n",
      "Accuracy= 0.9866666666666667\n"
     ]
    },
    {
     "name": "stderr",
     "output_type": "stream",
     "text": [
      "D:\\anaconda\\lib\\site-packages\\ipykernel_launcher.py:17: UserWarning: Implicit dimension choice for softmax has been deprecated. Change the call to include dim=X as an argument.\n"
     ]
    }
   ],
   "source": [
    "save_path = \"D://datasets//Machine_Unlearning//iris_model.pth\" \n",
    "new_model = torch.load(save_path)\n",
    "print(new_model)\n",
    "with torch.no_grad():\n",
    "    y_pred = new_model(torch.Tensor(X))\n",
    "correct = 0\n",
    "for i in range(len(y_pred)):\n",
    "    val = torch.argmax(y_pred[i])\n",
    "    actual = np.argmax(y[i])\n",
    "    if(val==actual):\n",
    "        correct+=1;\n",
    "print(\"Accuracy=\",correct/len(y))"
   ]
  },
  {
   "cell_type": "code",
   "execution_count": null,
   "metadata": {},
   "outputs": [],
   "source": []
  }
 ],
 "metadata": {
  "kernelspec": {
   "display_name": "Python 3",
   "language": "python",
   "name": "python3"
  },
  "language_info": {
   "codemirror_mode": {
    "name": "ipython",
    "version": 3
   },
   "file_extension": ".py",
   "mimetype": "text/x-python",
   "name": "python",
   "nbconvert_exporter": "python",
   "pygments_lexer": "ipython3",
   "version": "3.6.8"
  }
 },
 "nbformat": 4,
 "nbformat_minor": 2
}
